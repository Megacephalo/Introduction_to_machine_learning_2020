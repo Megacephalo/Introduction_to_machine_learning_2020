{
  "nbformat": 4,
  "nbformat_minor": 0,
  "metadata": {
    "colab": {
      "name": "Term project_Kaggle_challenge_Banco_Santander_binary_classification_problem_modelisation.ipynb",
      "provenance": [],
      "collapsed_sections": [],
      "authorship_tag": "ABX9TyPm2wHuMQENOiEMucBBrEd6",
      "include_colab_link": true
    },
    "kernelspec": {
      "name": "python3",
      "display_name": "Python 3"
    }
  },
  "cells": [
    {
      "cell_type": "markdown",
      "metadata": {
        "id": "view-in-github",
        "colab_type": "text"
      },
      "source": [
        "<a href=\"https://colab.research.google.com/github/Megacephalo/Introduction_to_machine_learning_2020/blob/main/Term_project_Kaggle_challenge_Banco_Santander_binary_classification_problem_modelisation.ipynb\" target=\"_parent\"><img src=\"https://colab.research.google.com/assets/colab-badge.svg\" alt=\"Open In Colab\"/></a>"
      ]
    },
    {
      "cell_type": "markdown",
      "metadata": {
        "id": "6AHXSpKYJ3fQ"
      },
      "source": [
        "Please refer to https://colab.research.google.com/drive/1SseaunPjYj-9-wMxUlepCQypC_4yweBW#scrollTo=rSs66fRmhdNq for the EDA part of the project."
      ]
    },
    {
      "cell_type": "markdown",
      "metadata": {
        "id": "q9fJLHmNKBVK"
      },
      "source": [
        "First, import the necessary modules."
      ]
    },
    {
      "cell_type": "code",
      "metadata": {
        "id": "7Onv8FC8KDwp"
      },
      "source": [
        "from google.colab import drive\n",
        "import pandas as pd\n",
        "from os.path import join\n",
        "from sklearn.preprocessing import StandardScaler\n",
        "from sklearn.model_selection import StratifiedKFold"
      ],
      "execution_count": null,
      "outputs": []
    },
    {
      "cell_type": "markdown",
      "metadata": {
        "id": "WMwA9G_UJ-ZO"
      },
      "source": [
        "# Load in datasets"
      ]
    },
    {
      "cell_type": "code",
      "metadata": {
        "colab": {
          "base_uri": "https://localhost:8080/"
        },
        "id": "x9ban9UJKFd5",
        "outputId": "3a447625-9d42-4540-8539-004009e6f85c"
      },
      "source": [
        "drive.mount(\"/content/gdrive\")"
      ],
      "execution_count": null,
      "outputs": [
        {
          "output_type": "stream",
          "text": [
            "Mounted at /content/gdrive\n"
          ],
          "name": "stdout"
        }
      ]
    },
    {
      "cell_type": "code",
      "metadata": {
        "colab": {
          "base_uri": "https://localhost:8080/"
        },
        "id": "Gw9kHYieKQH0",
        "outputId": "6c0476b0-eded-41cb-dcc0-2c8c56d09b7b"
      },
      "source": [
        "%%time\n",
        "dataset_base_dir = '/content/gdrive/My Drive/RPI_ITWS/Fall 2020/Intro to machine learning apps/Term project/datasets/'\n",
        "train_dataset_dir = join(dataset_base_dir, 'train.csv')\n",
        "test_dataset_dir = join(dataset_base_dir, 'test.csv')\n",
        "\n",
        "# Import data to dataframes\n",
        "train_df = pd.read_csv(train_dataset_dir)\n",
        "test_df = pd.read_csv(test_dataset_dir)\n",
        "\n",
        "print('The training dataframe dim: ', train_df.shape)\n",
        "print('The testing dataframe dim:', test_df.shape)"
      ],
      "execution_count": null,
      "outputs": [
        {
          "output_type": "stream",
          "text": [
            "The training dataframe dim:  (200000, 202)\n",
            "The testing dataframe dim: (200000, 201)\n",
            "CPU times: user 15.1 s, sys: 1.24 s, total: 16.4 s\n",
            "Wall time: 22.8 s\n"
          ],
          "name": "stdout"
        }
      ]
    },
    {
      "cell_type": "markdown",
      "metadata": {
        "id": "uDKOJ3UJL3KR"
      },
      "source": [
        "# Standardize data\n",
        "\n",
        "Source: https://www.kaggle.com/nawidsayed/lightgbm-and-cnn-3rd-place-solution"
      ]
    },
    {
      "cell_type": "code",
      "metadata": {
        "id": "99ME9tiYL5qL"
      },
      "source": [
        "scaler = StandardScaler()\n",
        "features = [attrib for attrib in train_df_filt.columns]\n",
        "train_df_filt = scaler.fit_transform(train_df_filt)\n",
        "\n",
        "train_df_filt_df = pd.DataFrame(data = train_df_filt, columns = features)"
      ],
      "execution_count": null,
      "outputs": []
    },
    {
      "cell_type": "markdown",
      "metadata": {
        "id": "6Tjgaf8eUnIA"
      },
      "source": [
        "# Cross-validation\r\n",
        "\r\n",
        "Use stratified cross-validation in 5 folds"
      ]
    },
    {
      "cell_type": "code",
      "metadata": {
        "id": "eLGJjb8tnDGq"
      },
      "source": [
        "NFOLDS = 5\r\n",
        "RANDOM_STATE = 42\r\n",
        "\r\n",
        "y = train_df.target.values\r\n",
        "train_ids = train_df.ID_code.values\r\n",
        "train = train.drop(['ID_code', 'target'], axis = 1)\r\n",
        "feature_list = train_df.columns\r\n",
        "\r\n",
        "test_ids = test_df.ID_code.values\r\n",
        "test = test[feature_list]\r\n",
        "\r\n",
        "X = train_df.values.astype(float)\r\n",
        "X_test = test_df.values.astype(float)\r\n",
        "\r\n",
        "classifiers = []\r\n",
        "folds = StratifiedKFold(n_splits = NFOLDS,\r\n",
        "                        shuffle = True,\r\n",
        "                        random_state = RANDOM_STATE)\r\n",
        "oof_preds = np.zeros( len(train_f), 1 )\r\n",
        "test_preds = np.zeros( len(test_df), 1 )"
      ],
      "execution_count": null,
      "outputs": []
    },
    {
      "cell_type": "markdown",
      "metadata": {
        "id": "jOXs278asmZv"
      },
      "source": [
        "__todo__: Set up training procedure for each model"
      ]
    },
    {
      "cell_type": "markdown",
      "metadata": {
        "id": "GgoPtGr_sYpM"
      },
      "source": [
        "# Light GBM as classifier\r\n",
        "\r\n",
        "The LGBM is an essemble learning consisting of decision trees (sort of like a random forest?)."
      ]
    },
    {
      "cell_type": "code",
      "metadata": {
        "id": "bpzayNXsshK_"
      },
      "source": [
        ""
      ],
      "execution_count": null,
      "outputs": []
    }
  ]
}